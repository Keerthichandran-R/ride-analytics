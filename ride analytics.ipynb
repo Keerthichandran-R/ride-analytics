{
 "cells": [
  {
   "cell_type": "code",
   "execution_count": 1,
   "id": "cb645365-97d1-45a4-a3d1-d7b212ac5a23",
   "metadata": {},
   "outputs": [
    {
     "name": "stdout",
     "output_type": "stream",
     "text": [
      "🔹 First 5 records:\n",
      "   RideID        Date DriverID RiderID  Distance(km)  Fare  Rating  Revenue\n",
      "0  R1000  2025-07-01     D001    U001          2.29   536       5      536\n",
      "1  R1001  2025-07-02     D002    U002         12.77   495       5      495\n",
      "2  R1002  2025-07-03     D003    U003         17.60   739       4      739\n",
      "3  R1003  2025-07-04     D004    U004          4.57   407       4      407\n",
      "4  R1004  2025-07-05     D005    U005         13.02   580       4      580\n",
      "\n",
      "💰 Total Revenue: ₹12886\n",
      "\n",
      "🛣️ Average Trip Distance: 14.04 km\n",
      "\n",
      "⭐ Average Rider Rating: 3.90\n",
      "\n",
      "🏆 Top Drivers by Revenue:\n",
      " DriverID\n",
      "D002    1635\n",
      "D003    1623\n",
      "D010    1603\n",
      "D005    1460\n",
      "D008    1345\n",
      "Name: Revenue, dtype: int64\n",
      "\n",
      "👥 Top Riders by Number of Rides:\n",
      " RiderID\n",
      "U001    2\n",
      "U002    2\n",
      "U003    2\n",
      "U004    2\n",
      "U005    2\n",
      "Name: count, dtype: int64\n"
     ]
    }
   ],
   "source": [
    "import pandas as pd\n",
    "\n",
    "# Load the ride data\n",
    "df = pd.read_csv(\"rides_data.csv\")\n",
    "\n",
    "# Calculate basic metrics\n",
    "df['Revenue'] = df['Fare']\n",
    "\n",
    "print(\"🔹 First 5 records:\\n\", df.head())\n",
    "\n",
    "# Total revenue\n",
    "print(f\"\\n💰 Total Revenue: ₹{df['Revenue'].sum()}\")\n",
    "\n",
    "# Average trip distance\n",
    "print(f\"\\n🛣️ Average Trip Distance: {df['Distance(km)'].mean():.2f} km\")\n",
    "\n",
    "# Average rating\n",
    "print(f\"\\n⭐ Average Rider Rating: {df['Rating'].mean():.2f}\")\n",
    "\n",
    "# Driver performance\n",
    "driver_revenue = df.groupby(\"DriverID\")[\"Revenue\"].sum().sort_values(ascending=False)\n",
    "print(\"\\n🏆 Top Drivers by Revenue:\\n\", driver_revenue.head(5))\n",
    "\n",
    "# Most frequent riders\n",
    "rider_counts = df['RiderID'].value_counts().head(5)\n",
    "print(\"\\n👥 Top Riders by Number of Rides:\\n\", rider_counts)\n"
   ]
  },
  {
   "cell_type": "code",
   "execution_count": null,
   "id": "76f5de47-4bed-4bd5-ac7d-a34bef0734de",
   "metadata": {},
   "outputs": [],
   "source": []
  }
 ],
 "metadata": {
  "kernelspec": {
   "display_name": "Python 3 (ipykernel)",
   "language": "python",
   "name": "python3"
  },
  "language_info": {
   "codemirror_mode": {
    "name": "ipython",
    "version": 3
   },
   "file_extension": ".py",
   "mimetype": "text/x-python",
   "name": "python",
   "nbconvert_exporter": "python",
   "pygments_lexer": "ipython3",
   "version": "3.11.7"
  }
 },
 "nbformat": 4,
 "nbformat_minor": 5
}
